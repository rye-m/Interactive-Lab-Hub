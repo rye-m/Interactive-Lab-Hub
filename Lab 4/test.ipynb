{
 "cells": [
  {
   "cell_type": "code",
   "execution_count": 63,
   "metadata": {},
   "outputs": [],
   "source": [
    "from aupyom import Sound"
   ]
  },
  {
   "cell_type": "code",
   "execution_count": 64,
   "metadata": {},
   "outputs": [
    {
     "name": "stdout",
     "output_type": "stream",
     "text": [
      "/home/pi/.local/lib/python3.9/site-packages/aupyom/example_data/Tom's Dinner.wav\n"
     ]
    }
   ],
   "source": [
    "from aupyom.util import example_audio_file\n",
    "\n",
    "audio_file = example_audio_file()\n",
    "print(audio_file)"
   ]
  },
  {
   "cell_type": "code",
   "execution_count": 65,
   "metadata": {},
   "outputs": [],
   "source": [
    "s1 = Sound.from_file(audio_file)"
   ]
  },
  {
   "cell_type": "code",
   "execution_count": 66,
   "metadata": {},
   "outputs": [],
   "source": [
    "from aupyom import Sampler\n",
    "\n",
    "sampler = Sampler()"
   ]
  },
  {
   "cell_type": "code",
   "execution_count": 67,
   "metadata": {},
   "outputs": [],
   "source": [
    "import numpy\n",
    "\n",
    "freq = 440.0\n",
    "sr = 22050\n",
    "t = 10.0\n",
    "\n",
    "#s2 = Sound(numpy.sin(2 * numpy.pi * freq * numpy.linspace(0, t, sr * t)), sr)"
   ]
  },
  {
   "cell_type": "code",
   "execution_count": 68,
   "metadata": {},
   "outputs": [
    {
     "name": "stderr",
     "output_type": "stream",
     "text": [
      "Exception in thread Thread-26:\n",
      "Traceback (most recent call last):\n",
      "  File \"/usr/lib/python3.9/threading.py\", line 954, in _bootstrap_inner\n",
      "    self.run()\n",
      "  File \"/usr/lib/python3.9/threading.py\", line 892, in run\n",
      "    self._target(*self._args, **self._kwargs)\n",
      "  File \"/home/pi/.local/lib/python3.9/site-packages/aupyom/sampler.py\", line 95, in chunks_producer\n",
      "    self.chunks.put(self.next_chunks())\n",
      "  File \"/home/pi/.local/lib/python3.9/site-packages/aupyom/sampler.py\", line 77, in next_chunks\n"
     ]
    },
    {
     "name": "stderr",
     "output_type": "stream",
     "text": [
      "    chunks.append(next(s.chunks))\n",
      "  File \"/home/pi/.local/lib/python3.9/site-packages/aupyom/sound.py\", line 76, in __next__\n",
      "    chunk = self._next_chunk()\n",
      "  File \"/home/pi/.local/lib/python3.9/site-packages/aupyom/sound.py\", line 89, in _next_chunk\n",
      "    chunk = self._time_stretcher(self.stretch_factor)\n",
      "  File \"/home/pi/.local/lib/python3.9/site-packages/aupyom/sound.py\", line 160, in _time_stretcher\n",
      "    out = numpy.zeros(self._N, dtype=numpy.complex128)\n",
      "  File \"/home/pi/.local/lib/python3.9/site-packages/numpy/__init__.py\", line 319, in __getattr__\n",
      "    raise AttributeError(__former_attrs__[attr])\n",
      "AttributeError: module 'numpy' has no attribute 'complex'.\n",
      "`np.complex` was a deprecated alias for the builtin `complex`. To avoid this error in existing code, use `complex` by itself. Doing this will not modify any behavior and is safe. If you specifically wanted the numpy scalar type, use `np.complex128` here.\n",
      "The aliases was originally deprecated in NumPy 1.20; for more details and guidance see the original release note at:\n",
      "    https://numpy.org/devdocs/release/1.20.0-notes.html#deprecations\n"
     ]
    }
   ],
   "source": [
    "sampler.play(s1)"
   ]
  },
  {
   "cell_type": "code",
   "execution_count": 1,
   "metadata": {},
   "outputs": [
    {
     "name": "stderr",
     "output_type": "stream",
     "text": [
      "Input #0, wav, from '/tmp/tmp0k13g1g0.wav':   0KB sq=    0B f=0/0   \n",
      "  Duration: 00:00:20.22, bitrate: 705 kb/s\n",
      "    Stream #0:0: Audio: pcm_s16le ([1][0][0][0] / 0x0001), 44100 Hz, 1 channels, s16, 705 kb/s\n",
      "  20.16 M-A:  0.000 fd=   0 aq=    0KB vq=    0KB sq=    0B f=0/0   \r"
     ]
    },
    {
     "name": "stdout",
     "output_type": "stream",
     "text": [
      "\n"
     ]
    }
   ],
   "source": [
    "# import required libraries\n",
    "from pydub import AudioSegment \n",
    "from pydub.playback import play \n",
    "import qwiic\n",
    "import time\n",
    "\"\"\"\n",
    "# Setting up the sensor\n",
    "print(\"VL53L1X Qwiic Test\\n\")\n",
    "ToF = qwiic.QwiicVL53L1X()\n",
    "if (ToF.sensor_init() == None):\t\t\t\t\t # Begin returns 0 on a good init\n",
    "\tprint(\"Sensor online!\\n\")\n",
    "\"\"\"\n",
    "# Import an audio file \n",
    "sound = AudioSegment.from_file(file = \"/home/pi/.local/lib/python3.9/site-packages/aupyom/example_data/Tom's Dinner.wav\", \n",
    "                                  format = \"wav\") \n",
    "\n",
    "# Change speed\n",
    "sound_2x = sound.speedup(playback_speed=2.0, crossfade=0)\n",
    "\n",
    "# Shift the pitch\n",
    "octaves = -0.5\n",
    "new_sample_rate = int(sound.frame_rate * (2.0 ** octaves))\n",
    "sound_lowpitch = sound._spawn(sound.raw_data, overrides={'frame_rate': new_sample_rate})\n",
    "\n",
    " \n",
    "# Play the audio file\n",
    "play(sound)"
   ]
  }
 ],
 "metadata": {
  "kernelspec": {
   "display_name": "Python 3",
   "language": "python",
   "name": "python3"
  },
  "language_info": {
   "codemirror_mode": {
    "name": "ipython",
    "version": 3
   },
   "file_extension": ".py",
   "mimetype": "text/x-python",
   "name": "python",
   "nbconvert_exporter": "python",
   "pygments_lexer": "ipython3",
   "version": "3.9.2"
  },
  "orig_nbformat": 4
 },
 "nbformat": 4,
 "nbformat_minor": 2
}
